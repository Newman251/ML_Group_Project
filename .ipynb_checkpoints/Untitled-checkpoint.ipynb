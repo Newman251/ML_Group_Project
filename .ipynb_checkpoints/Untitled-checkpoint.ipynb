{
 "cells": [
  {
   "cell_type": "code",
   "execution_count": 1,
   "id": "fbf6b091",
   "metadata": {},
   "outputs": [
    {
     "name": "stdout",
     "output_type": "stream",
     "text": [
      "0        0\n",
      "1       10\n",
      "2        1\n",
      "5        1\n",
      "6        6\n",
      "        ..\n",
      "7209     1\n",
      "7210     1\n",
      "7211     1\n",
      "7212     1\n",
      "7213     1\n",
      "Name: length_of_stay, Length: 6172, dtype: int32\n",
      "correlation between length of stay and decile score 0.2074780847803181\n"
     ]
    }
   ],
   "source": [
    "from calendar import c\n",
    "from pyexpat import model\n",
    "from re import L\n",
    "import numpy as np\n",
    "import pandas as pd\n",
    "\n",
    "compas_scores_two_year= pd.read_csv(\"compas_scores_two_years.csv\",  lineterminator='\\n')\n",
    "\n",
    "# fitlering the data with the following conditions\n",
    "# 1. if charge data was not within 30 days of arrest\n",
    "# 2. c_charge_degree is not missing\n",
    "# 3. score_text is not missing\n",
    "# 4. is_recid is not missing -1 means missingd\n",
    "\n",
    "df= compas_scores_two_year[[ 'age', 'c_charge_degree','race', 'age_cat', 'score_text', 'sex', 'priors_count', 'days_b_screening_arrest', 'decile_score', 'is_recid',  'c_jail_in', 'c_jail_out',  'v_decile_score','two_year_recid\\r']]\n",
    "df = df.loc[(df['days_b_screening_arrest'] <= 30) & (df['days_b_screening_arrest'] >= -30) & (df['is_recid'] != -1) & (df['c_charge_degree'] != 'O') & (df['score_text'] != 'N/A')]\n",
    "\n",
    "#length of stay in jail\n",
    "df['length_of_stay'] = pd.to_datetime(df['c_jail_out']) - pd.to_datetime(df['c_jail_in'])\n",
    "df['length_of_stay'] = df['length_of_stay'].astype('timedelta64[D]')\n",
    "df['length_of_stay'] = df['length_of_stay'].astype(int)\n",
    "print(df['length_of_stay'])\n",
    "#correlation between length of stay and decile score\n",
    "print('correlation between length of stay and decile score',df['length_of_stay'].corr(df['decile_score']))\n"
   ]
  },
  {
   "cell_type": "code",
   "execution_count": 2,
   "id": "5460870c",
   "metadata": {},
   "outputs": [
    {
     "name": "stdout",
     "output_type": "stream",
     "text": [
      "-----------------race split-----------------\n",
      "African-American 0.5144199611147116\n",
      "Caucasian 0.34073233959818533\n",
      "Hispanic 0.08246921581335062\n",
      "Asian 0.005022683084899547\n",
      "Native American 0.0017822423849643552\n",
      "Other 0.05557355800388853\n",
      "-----------------Likelihood to re-offend----------------\n",
      "low  3421\n",
      "medium  1607\n",
      "high  1144\n"
     ]
    }
   ],
   "source": [
    "print('-----------------race split-----------------')\n",
    "race  = ['African-American', 'Caucasian', 'Hispanic', 'Asian', 'Native American', 'Other']\n",
    "for i in race :\n",
    "    print( i,len(df[df['race']== i])/len(df['race']))\n",
    "\n",
    "print ('-----------------Likelihood to re-offend----------------')\n",
    "print('low ', len(df[df['score_text'] == 'Low']))\n",
    "print('medium ', len(df[df['score_text'] == 'Medium']))\n",
    "print('high ', len(df[df['score_text'] == 'High']))"
   ]
  },
  {
   "cell_type": "code",
   "execution_count": 3,
   "id": "246966a0",
   "metadata": {},
   "outputs": [
    {
     "name": "stdout",
     "output_type": "stream",
     "text": [
      "-----------------Sex spread-----------------\n",
      "race    African-American  Asian  Caucasian  Hispanic  Native American  Other\n",
      "sex                                                                         \n",
      "Female               549      2        482        82                2     58\n",
      "Male                2626     29       1621       427                9    285\n",
      "-----------------decile score for african american-----------------\n",
      "count    3175.000000\n",
      "mean        5.276850\n",
      "std         2.828073\n",
      "min         1.000000\n",
      "25%         3.000000\n",
      "50%         5.000000\n",
      "75%         8.000000\n",
      "max        10.000000\n",
      "Name: decile_score, dtype: float64\n"
     ]
    }
   ],
   "source": [
    "print('-----------------Sex spread-----------------')\n",
    "f = pd.crosstab(df['sex'], df['race'])\n",
    "print(f)\n",
    "\n",
    "# find decide score for african american\n",
    "print('-----------------decile score for african american-----------------')\n",
    "print(df[(df['race']) == 'African-American']['decile_score'].describe())"
   ]
  },
  {
   "cell_type": "code",
   "execution_count": 4,
   "id": "74870feb",
   "metadata": {},
   "outputs": [
    {
     "data": {
      "image/png": "[encoded data removed]",
      "text/plain": [
       "<Figure size 432x288 with 2 Axes>"
      ]
     },
     "metadata": {
      "needs_background": "light"
     },
     "output_type": "display_data"
    }
   ],
   "source": [
    "decile = [1,2,3,4,5,6,7,8,9,10]\n",
    "# plot decide score for african american\n",
    "import matplotlib.pyplot as plt\n",
    "\n",
    "# bar plot for decile score for african american and caucasian\n",
    "\n",
    "df_race_decile_score = df[['race', 'decile_score']]\n",
    "df_african = df_race_decile_score[ df_race_decile_score['race'] == 'African-American']\n",
    "df_caucasian = df_race_decile_score[ df_race_decile_score['race'] == 'Caucasian']\n",
    "counts_decile_AA = []\n",
    "counts_decile_C = []\n",
    "temp = []\n",
    "for i in decile:\n",
    "    temp = len(df_african[df_african['decile_score'] == i])\n",
    "    counts_decile_AA.append(temp)\n",
    "    temp = len(df_caucasian[df_caucasian['decile_score'] == i])\n",
    "    counts_decile_C.append(temp)\n",
    "\n",
    "fig = plt.figure()\n",
    "ax = fig.subplots(1,2)\n",
    "ax[0].bar(decile, counts_decile_AA)\n",
    "ax[0].set_title('African American')\n",
    "ax[1].bar(decile, counts_decile_C)\n",
    "ax[1].set_title('Caucasian')\n",
    "\n",
    "ax[0].set_ylabel('Count')\n",
    "ax[0].set_xlabel('Decile score')\n",
    "ax[0].set_ylim(0, 650)\n",
    "ax[1].set_ylabel('Count')\n",
    "ax[1].set_xlabel('Decile score')\n",
    "ax[1].set_ylim(0, 650)\n",
    "plt.show()"
   ]
  },
  {
   "cell_type": "code",
   "execution_count": 5,
   "id": "fec6e2ce",
   "metadata": {},
   "outputs": [],
   "source": [
    "# create some factors for logistic regression\n",
    "df_c_charge_degree = df[['c_charge_degree']]\n",
    "df_age_cat = df[['age_cat']]\n",
    "df_race = df[['race']]\n",
    "df_sex = df[['sex']]\n",
    "df_age_race = df[['race']]\n",
    "df_score = df[['score_text']]\n",
    "\n",
    "\n",
    "#Change charge degree into int values\n",
    "crime_factor, u_charge_degree = pd.factorize(df_c_charge_degree['c_charge_degree'])\n",
    "#Change cage categories into int values\n",
    "f_age_cat, u_age_cat= pd.factorize(df_age_cat['age_cat'])\n",
    "#relevel age cat with reference = 1\n",
    "f_age_cat = f_age_cat - 1\n",
    "#Change gender to numerical values\n",
    "f_gender, uniques_gender  = pd.factorize(df_sex['sex'])\n",
    "\n",
    "# create a new maxtrix with the factors\n",
    "priors_count  = df[['priors_count']]\n",
    "two_year_recid = df[['two_year_recid\\r']]\n",
    "\n",
    "#factorize race \n",
    "# f_race_AA, u_race_AA= pd.factorize(df_age_race['race'] == 'African-American')\n",
    "# f_race_C, u_race = pd.factorize(df_age_race['race'] == 'Caucasian')\n",
    "#relevel race with reference = 3\n",
    "# print('----------------race----------------')\n",
    "# print(\"Numeric Representation : \\n\", f_race_AA)\n",
    "# print(\"Unique Values : \\n\", u_race_AA)\n",
    "\n"
   ]
  },
  {
   "cell_type": "code",
   "execution_count": 23,
   "id": "ead2ff50",
   "metadata": {},
   "outputs": [
    {
     "name": "stdout",
     "output_type": "stream",
     "text": [
      "intercept [ 1.68069955  1.30014701  0.94384981  0.6690145   0.35945392 -0.22522719\n",
      " -0.39169065 -0.99160136 -1.21869135 -2.12595424]\n",
      "coefficients [[-2.38338347e+00  4.81777240e-01 -2.67278022e-01 -4.60474771e-01\n",
      "  -7.10688957e-01]\n",
      " [-9.01352450e-01  3.06276591e-01 -6.72400765e-02 -1.97596785e-01\n",
      "  -4.74041453e-01]\n",
      " [-3.03565698e-01 -4.85437285e-02  4.48521753e-02 -1.02667738e-01\n",
      "  -3.80361090e-01]\n",
      " [ 2.93994524e-02  1.18847341e-01 -7.89503168e-02 -3.10490436e-02\n",
      "  -2.46051626e-01]\n",
      " [ 3.19683581e-02  3.55546784e-02  1.62755242e-01  1.97929138e-03\n",
      "  -1.03949726e-01]\n",
      " [ 2.24065767e-01 -6.02009908e-02  2.87768525e-01  9.51440432e-02\n",
      "   1.28510214e-01]\n",
      " [ 4.28783040e-01 -8.43186774e-02  4.95612567e-02  1.20084633e-01\n",
      "   1.30284745e-01]\n",
      " [ 6.29665511e-01 -2.23191099e-01 -9.12167124e-02  1.56640161e-01\n",
      "   5.12305939e-01]\n",
      " [ 9.56763850e-01 -2.86695310e-01 -9.66361131e-02  1.94448247e-01\n",
      "   4.02932265e-01]\n",
      " [ 1.28765564e+00 -2.39506045e-01  5.63840422e-02  2.23491960e-01\n",
      "   7.41059690e-01]]\n",
      "Accuracy 0.29860661049902787\n"
     ]
    },
    {
     "name": "stderr",
     "output_type": "stream",
     "text": [
      "C:\\Users\\lukej\\anaconda3\\lib\\site-packages\\sklearn\\linear_model\\_logistic.py:814: ConvergenceWarning: lbfgs failed to converge (status=1):\n",
      "STOP: TOTAL NO. of ITERATIONS REACHED LIMIT.\n",
      "\n",
      "Increase the number of iterations (max_iter) or scale the data as shown in:\n",
      "    https://scikit-learn.org/stable/modules/preprocessing.html\n",
      "Please also refer to the documentation for alternative solver options:\n",
      "    https://scikit-learn.org/stable/modules/linear_model.html#logistic-regression\n",
      "  n_iter_i = _check_optimize_result(\n"
     ]
    }
   ],
   "source": [
    "X = np.column_stack(( f_age_cat, crime_factor, f_gender, priors_count, two_year_recid  ))\n",
    "\n",
    "decile_score = df['decile_score']\n",
    "\n",
    "# build a binmal logistic regression model to explain the score text given the factors\n",
    "from sklearn.linear_model import LogisticRegression\n",
    "model  = LogisticRegression(penalty='l2', C=0.1, max_iter=100)\n",
    "model.fit(X, decile_score)\n",
    "ypred = model.predict(X)\n",
    "#print summary\n",
    "print('intercept', model.intercept_)\n",
    "#print coefficients with corresponding factors\n",
    "print('coefficients', model.coef_)\n",
    "print('Accuracy', model.score(X, decile_score))\n",
    "\n",
    "# import statsmodels.api as sm\n",
    "# model = sm.GLM(decile_score, X,  family=sm.families.Binomial())\n",
    "# results = model.fit()\n",
    "# print(results.summary())"
   ]
  },
  {
   "cell_type": "code",
   "execution_count": null,
   "id": "1afa2a0b",
   "metadata": {},
   "outputs": [],
   "source": []
  }
 ],
 "metadata": {
  "kernelspec": {
   "display_name": "Python 3 (ipykernel)",
   "language": "python",
   "name": "python3"
  },
  "language_info": {
   "codemirror_mode": {
    "name": "ipython",
    "version": 3
   },
   "file_extension": ".py",
   "mimetype": "text/x-python",
   "name": "python",
   "nbconvert_exporter": "python",
   "pygments_lexer": "ipython3",
   "version": "3.9.12"
  }
 },
 "nbformat": 4,
 "nbformat_minor": 5
}
